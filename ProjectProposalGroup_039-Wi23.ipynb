{
 "cells": [
  {
   "cell_type": "markdown",
   "metadata": {},
   "source": [
    "# COGS 108 - Final Project Proposal"
   ]
  },
  {
   "attachments": {},
   "cell_type": "markdown",
   "metadata": {},
   "source": [
    "# Names\n",
    "\n",
    "- Nhan Quach\n",
    "- Joseph Morales\n",
    "- Victor Wang\n",
    "- Kevin Hu\n",
    "- Areen Lu"
   ]
  },
  {
   "cell_type": "markdown",
   "metadata": {},
   "source": [
    "# Research Question"
   ]
  },
  {
   "attachments": {},
   "cell_type": "markdown",
   "metadata": {},
   "source": [
    "How has social perception of profanity shifted across the past 20 years as indicated by the proportion of profane words utilized within the top 10 movies over the past 20 years and their respective age ratings, box office performance, and review scores?\n",
    "\n"
   ]
  },
  {
   "cell_type": "markdown",
   "metadata": {},
   "source": [
    "## Background and Prior Work"
   ]
  },
  {
   "cell_type": "markdown",
   "metadata": {},
   "source": [
    "\n",
    "- Include a general introduction to your topic\n",
    "- Include explanation of what work has been done previously\n",
    "- Include citations or links to previous work\n",
    "\n",
    "This section will present the background and context of your topic and question in a few paragraphs. Include a general introduction to your topic and then describe what information you currently know about the topic after doing your initial research. Include references to other projects who have asked similar questions or approached similar problems. Explain what others have learned in their projects.\n",
    "\n",
    "Find some relevant prior work, and reference those sources, summarizing what each did and what they learned. Even if you think you have a totally novel question, find the most similar prior work that you can and discuss how it relates to your project.\n",
    "\n",
    "References can be research publications, but they need not be. Blogs, GitHub repositories, company websites, etc., are all viable references if they are relevant to your project. It must be clear which information comes from which references. (2-3 paragraphs, including at least 2 references)\n",
    "\n",
    " **Use inline citation through Markdown footnotes to specify which references support which statements** \n",
    "\n",
    "For example: After government genocide in the 20th century, real birds were replaced with surveillance drones designed to look just like birds[^lorenz]. \n",
    "Use a minimum of 2 or 3 citations, but we prefer more[^admonish]. You need enough to fully explain and back up important facts. \n",
    "\n",
    "[^lorenz]: Lorenz, T. (9 Dec 2021) Birds Aren’t Real, or Are They? Inside a Gen Z Conspiracy Theory. *The New York Times*. https://www.nytimes.com/2021/12/09/technology/birds-arent-real-gen-z-misinformation.html \n",
    "[^admonish]: Also refs should be important to the background, not some randomly chosen vaguely related stuff. Include a web link if possible in refs as above.\n"
   ]
  },
  {
   "cell_type": "markdown",
   "metadata": {},
   "source": [
    "# Hypothesis\n"
   ]
  },
  {
   "attachments": {},
   "cell_type": "markdown",
   "metadata": {},
   "source": [
    "\n",
    "We hypothesize that profanity has grown to be more tolerated within popular American opinion. Specifically, we predict that usage of profanity in films have increased over the years with age ratings relative to profanity being less correlated as time goes on, while revenue and review scores of the movies increase. The reason behind such a trend could stem with both the increase in research and understanding behind the complexity of profanity beyond that of a malicious and taboo topic, and that profanity has become a medium to capture strong emotions in as few words as possible."
   ]
  },
  {
   "cell_type": "markdown",
   "metadata": {},
   "source": [
    "# Data"
   ]
  },
  {
   "attachments": {},
   "cell_type": "markdown",
   "metadata": {},
   "source": [
    "1. Explain what the **ideal** dataset you would want to answer this question. (This should include: What variables? How many observations? Who/what/how would these data be collected? How would these data be stored/organized?)\n",
    "\n",
    "To perfectly answer our research question, we would require an assortment of various **ideal** datasets incorporating lexical variables such as profanity usage along with variables relevant to movies' box office performances such as review scores, revenue, and age rating. **Ideally**, for each of the three components of movie performance, we would want 30 of the top movies from each category (e.g., 30 of the top grossing movies from 1998) to have a representative sample that year and the variation of genre. This sample size should also hopefully have decent power to detect relationships between profanity and movie performance. Review scores should also hopefully be plentiful to get an accurate scale of the concensus for how public perception for the movie was. The movie script datasets themselves would hopefully be gathered via lexical analysis of movie scripts which account for the variations of profane words and phrases and then normalized as a proportion, as the length of scripts for movies can vary greatly. The datasets would hopefully be in a CSV for the lexical data while the movie information should hopefully be stored within JSON meta-data storing the movies' age ratings, review scores, and box office revenue which we could then easily scrape for relevant information.\n",
    "\n",
    "1. Search for potential **real** datasets that could provide you with something useful for this project.  You do not have to find every piece of data you will use, but you do need to have demonstrated some idea that (a) this data is gettable and (b) that this data may be different from what your ideal is\n",
    "\n",
    "[The Movies Dataset](https://www.kaggle.com/datasets/rounakbanik/the-movies-dataset) contains metadata for 45,000 movies with 26 million ratings collected from 270,000 users for all movies stored within there. However, this dataset is limited only up till 2017. The dataset is gathered from [The Movie Database](https://www.themoviedb.org/) which is a community built move and TV database for movies from 2008 till now. We could update the original dataset to be current till 2022, however the IMDB API is limited to 40 fetches per second and [it was calculated to take roughly an entire week](https://www.themoviedb.org/talk/54f41aafc3a3683455000991) to fetch all necessary data.\n",
    "\n",
    "[Movie Dataset](https://www.kaggle.com/datasets/kayscrapes/movie-dataset) is a dataset which consists of 3886 movies scraped from [Hydra Movies](https://www.kaggle.com/datasets/kayscrapes/movie-dataset) which unfortunately appears to be depreciated. The movies on the dataset extend from 2000 to 2008, however, providing more samples than [The Movies Dataset](https://www.kaggle.com/datasets/rounakbanik/the-movies-dataset).\n",
    "\n",
    "[List of films that most frequently use the word F*](https://www.kaggle.com/datasets/devrimtuner/list-of-films-that-most-frequently-use-the-word) is as the title suggests. Movies on the list stretch as far back as 1983 to as recent as 2022. The only profane word studied on the dataset, however, is F*."
   ]
  },
  {
   "cell_type": "markdown",
   "metadata": {},
   "source": [
    "# Ethics & Privacy"
   ]
  },
  {
   "cell_type": "markdown",
   "metadata": {},
   "source": [
    "- Thoughtful discussion of ethical concerns included\n",
    "- Ethical concerns consider the whole data science process (question asked, data collected, data being used, the bias in data, analysis, post-analysis, etc.)\n",
    "- How your group handled bias/ethical concerns clearly described\n",
    "\n",
    "Acknowledge and address any ethics & privacy related issues of your question(s), proposed dataset(s), and/or analyses. Use the information provided in lecture to guide your group discussion and thinking. If you need further guidance, check out [Deon's Ethics Checklist](http://deon.drivendata.org/#data-science-ethics-checklist). In particular:\n",
    "\n",
    "- Are there any biases/privacy/terms of use issues with the data you propsed?\n",
    "- Are there potential biases in your dataset(s), in terms of who it composes, and how it was collected, that may be problematic in terms of it allowing for equitable analysis? (For example, does your data exclude particular populations, or is it likely to reflect particular human biases in a way that could be a problem?)\n",
    "- How will you set out to detect these specific biases before, during, and after/when communicating your analysis?\n",
    "- Are there any other issues related to your topic area, data, and/or analyses that are potentially problematic in terms of data privacy and equitable impact?\n",
    "- How will you handle issues you identified?"
   ]
  },
  {
   "cell_type": "markdown",
   "metadata": {},
   "source": [
    "# Team Expectations "
   ]
  },
  {
   "attachments": {},
   "cell_type": "markdown",
   "metadata": {},
   "source": [
    "\n",
    "* Support one another with the programmic aspect of data science such that each of us will have a working familiarity behind data science coding\n",
    "* Communicate concerns of deadlines and establish a support requests when a task may become too difficult \n",
    "* Routinely check in with each other on progress of tasks in a public group manner such that each of the team members are aware of the progress of task\n",
    "* Share findings each of us may make while conducting our tasks as we discover them, such that each team member may have the opportunity to explore and discuss such findings to improve our conclusions"
   ]
  },
  {
   "cell_type": "markdown",
   "metadata": {},
   "source": [
    "# Project Timeline Proposal"
   ]
  },
  {
   "attachments": {},
   "cell_type": "markdown",
   "metadata": {},
   "source": [
    "| Meeting Date  | Meeting Time| Completed Before Meeting  | Discuss at Meeting |\n",
    "|---|---|---|---|\n",
    "| 02/03  |  3 PM | Review expectations of final project; Discuss mutual reserach interests; Research possible topics to scplore  | Determine best form of communication and vote on days which most of us are free to meet; Share research we have currently | \n",
    "| 02/14  |  8 PM |  Do background research on topic each of us want to do | Present arguments for why we should choose a specific topic; Discuss ideal datasets for the topic, predictions, background and significance, and possible ethical concerns; Assign group members to lead specific parts; Vote on topic to commit to | \n",
    "| 03/05  | 8 PM  | Edit, finalize, and submit proposal; Search for datasets  | Discuss Wrangling and possible analytical approaches; Do basic wrangling and exploration of datasets; Complete checkpoint  |\n",
    "| 03/10  | 6 PM  | Import & Wrangle Data (Nhan); EDA (Areen) | Review/Edit wrangling/EDA; Discuss Analysis Plan; Search for additional datasets if needed  |\n",
    "| 03/17  | 8 PM  | Finalize wrangling/EDA; Begin Analysis (Victor; Kevin) | Discuss/edit Analysis; Complete project check-in |\n",
    "| 03/20  | 8 PM  | Complete analysis; Draft results/conclusion/discussion (Joseph)| Discuss/edit full project |\n",
    "| 03/24  | Before 11:59 PM  | NA | Turn in Final Project & Group Project Surveys |"
   ]
  },
  {
   "cell_type": "code",
   "execution_count": null,
   "metadata": {},
   "outputs": [],
   "source": []
  }
 ],
 "metadata": {
  "kernelspec": {
   "display_name": "Python 3",
   "language": "python",
   "name": "python3"
  },
  "language_info": {
   "codemirror_mode": {
    "name": "ipython",
    "version": 3
   },
   "file_extension": ".py",
   "mimetype": "text/x-python",
   "name": "python",
   "nbconvert_exporter": "python",
   "pygments_lexer": "ipython3",
   "version": "3.8.8"
  }
 },
 "nbformat": 4,
 "nbformat_minor": 2
}
