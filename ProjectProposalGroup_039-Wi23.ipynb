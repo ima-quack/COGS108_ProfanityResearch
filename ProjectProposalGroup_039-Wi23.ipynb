{
 "cells": [
  {
   "cell_type": "markdown",
   "metadata": {},
   "source": [
    "# COGS 108 - Final Project Proposal"
   ]
  },
  {
   "cell_type": "markdown",
   "metadata": {},
   "source": [
    "# Names\n",
    "\n",
    "- Nhan Quach\n",
    "- Joseph Morales\n",
    "- Victor Wang\n",
    "- Kevin Hu\n",
    "- Areen Lu"
   ]
  },
  {
   "cell_type": "markdown",
   "metadata": {},
   "source": [
    "# Research Question"
   ]
  },
  {
   "cell_type": "markdown",
   "metadata": {},
   "source": [
    "How has social perception of profanity shifted across the past 20 years as indicated by the proportion of profane words utilized within the top 10 movies over the past 20 years and their respective age ratings, box office performance, and review scores?\n",
    "\n"
   ]
  },
  {
   "cell_type": "markdown",
   "metadata": {},
   "source": [
    "## Background and Prior Work"
   ]
  },
  {
   "cell_type": "markdown",
   "metadata": {},
   "source": [
    "Profanity is a term used to describe lewd language that encompasses both taboo and swear words that occurs in social settings where it is considered both inappropriate and unacceptable [1]. Male and Female professionals of all ages admit to swearing. [2]. Swearing leads to positive outcomes across various factors at the individual, interpersonal, and group levels that include stress relief, communication enrichment, and socialization enhancement [2]. Profanity can also be perceived as being more honest as well as holding higher integrity in society [1].\n",
    "\n",
    "Perception is everything in this including the way someone speaks. In terms of profanity, it has been found that those who used profanity appeared to make poor impression ratings across several factors such as intelligence, level of trust, and even overall impression [3]. Perception is significant in terms of professional settings. For instance, a study found that when its’ participants viewed police dashcams found the video with profanity to be less reasonable compared to a video with clean language [4].\n",
    "\n",
    "However, the opposite appears to occur when it comes to reviews. A study that looked at the profanity used in Yelp reviews it was found that the credibility of the reviewer mediates the profanities' effectiveness on usefulness in positive reviews; whereas in negative reviews it was reviewer objectivity mediates the effectiveness of profanity [5]. Another study looked at product reviews, it was found that when the reviews had to swear words it made the product more desirable leading to the reader's attitude toward the product increase [6]. Both these studies illustrate the impact that profanity can have on businesses in terms of their projections. \n",
    "\n",
    "In terms of the film industry, films started to introduce profanity as black dialect during the “Blaxploitation films” era that took place from 1969 to 1974 [7].  Profanity was viewed to stimulate awareness and using it perpetuated stereotypical imaging[8].  In this study we are trying to look at the use of profanity in films and see whether or not there is a trend that occurs; specifically in terms of whether or not the utilization of profanity can impact how well the film does. \n",
    "\n",
    "References:\n",
    "[1]: https://doi.org/10.1177/1948550616681055\n",
    "[2]: https://psycnet.apa.org/record/2017-09123-002\n",
    "[3]: https://journals.sagepub.com/doi/10.1177/0261927X18758143\n",
    "[4]: https://journals.sagepub.com/doi/10.1177/10986111221111332\n",
    "[5]: https://www.jstor.org/stable/48701054\n",
    "[6]: https://journals.sagepub.com/doi/10.1177/00222437221078606\n",
    "[7]: https://www.proquest.com/docview/282279288?parentSessionId=jYnKSeSoDkE%2FMCRmkj2GD4w7eTPsHbmbfXRwIau9K0E%3D\n",
    "[8]: https://journals.sagepub.com/doi/10.1177/13567667211020497"
   ]
  },
  {
   "cell_type": "markdown",
   "metadata": {},
   "source": [
    "# Hypothesis\n"
   ]
  },
  {
   "cell_type": "markdown",
   "metadata": {},
   "source": [
    "\n",
    "We hypothesize that profanity has grown to be more tolerated within popular American opinion. Specifically, we predict that usage of profanity in films have increased over the years with age ratings relative to profanity being less correlated as time goes on, while revenue and review scores of the movies increase. The reason behind such a trend could stem with both the increase in research and understanding behind the complexity of profanity beyond that of a malicious and taboo topic, and that profanity has become a medium to capture strong emotions in as few words as possible."
   ]
  },
  {
   "cell_type": "markdown",
   "metadata": {},
   "source": [
    "# Data"
   ]
  },
  {
   "cell_type": "markdown",
   "metadata": {},
   "source": [
    "1. Explain what the **ideal** dataset you would want to answer this question. (This should include: What variables? How many observations? Who/what/how would these data be collected? How would these data be stored/organized?)\n",
    "\n",
    "To perfectly answer our research question, we would require an assortment of various **ideal** datasets incorporating lexical variables such as profanity usage along with variables relevant to movies' box office performances such as review scores, revenue, and age rating. **Ideally**, for each of the three components of movie performance, we would want 30 of the top movies from each category (e.g., 30 of the top grossing movies from 1998) to have a representative sample that year and the variation of genre. This sample size should also hopefully have decent power to detect relationships between profanity and movie performance. Review scores should also hopefully be plentiful to get an accurate scale of the concensus for how public perception for the movie was. The movie script datasets themselves would hopefully be gathered via lexical analysis of movie scripts which account for the variations of profane words and phrases and then normalized as a proportion, as the length of scripts for movies can vary greatly. The datasets would hopefully be in a CSV for the lexical data while the movie information should hopefully be stored within JSON meta-data storing the movies' age ratings, review scores, and box office revenue which we could then easily scrape for relevant information.\n",
    "\n",
    "1. Search for potential **real** datasets that could provide you with something useful for this project.  You do not have to find every piece of data you will use, but you do need to have demonstrated some idea that (a) this data is gettable and (b) that this data may be different from what your ideal is\n",
    "\n",
    "Currently, we have the following **real** datasets to build a foundation for our analysis.\n",
    "\n",
    "[The Movies Dataset](https://www.kaggle.com/datasets/rounakbanik/the-movies-dataset) contains metadata for 45,000 movies with 26 million ratings collected from 270,000 users for all movies stored within there. However, this dataset is limited only up till 2017 and only reaches as far back as 2008. The dataset is gathered from [The Movie Database](https://www.themoviedb.org/) which is a community built move and TV database for movies from 2008 till now. We could update the original dataset to be current till 2022, however the IMDB API is limited to 40 fetches per second and [it was calculated to take roughly an entire week](https://www.themoviedb.org/talk/54f41aafc3a3683455000991) to fetch all necessary data. Nevertheless, genre, review ratings, and revenue. Age ratings are not specified for each movie beyond being list as \"Adult\" or not.\n",
    "\n",
    "[Movie Dataset](https://www.kaggle.com/datasets/kayscrapes/movie-dataset) is a dataset which consists of 3886 movies scraped from [Hydra Movies](https://www.kaggle.com/datasets/kayscrapes/movie-dataset) which unfortunately appears to be depreciated. The movies on the dataset extend from 2000 to 2008, however, providing more samples than [The Movies Dataset](https://www.kaggle.com/datasets/rounakbanik/the-movies-dataset).\n",
    "\n",
    "[List of films that most frequently use the word F*](https://www.kaggle.com/datasets/devrimtuner/list-of-films-that-most-frequently-use-the-word) is as the title suggests. Movies on the list stretch as far back as 1983 to as recent as 2022. The only profane word studied on the dataset, however, is F*.\n",
    "\n",
    "We also have found the following resources to supplement and possibly collect more data if necessary to improve our analysis.\n",
    "\n",
    "[The Internet Movie Script Database (IMSDb)](https://imsdb.com/) which houses a collection of movie scripts made available publically oneline. All scripts are stored as HTML which makes it ideal for data analysis.\n",
    "\n",
    "[The Movie Database](https://www.themoviedb.org/) as mentioned previously. We can utilize this database to modernize the dataset from [The Movies Dataset](https://www.kaggle.com/datasets/rounakbanik/the-movies-dataset), however there is the limitaiton of the amount of fetch API calls we can make. The database also stores content age ratings of films, which again we would need to fill in as [The Movies Dataset](https://www.kaggle.com/datasets/rounakbanik/the-movies-dataset) does not include such information."
   ]
  },
  {
   "cell_type": "markdown",
   "metadata": {},
   "source": [
    "# Ethics & Privacy"
   ]
  },
  {
   "cell_type": "markdown",
   "metadata": {},
   "source": [
    "Regarding the ethical concerns of our project, we will tackle each of ethical guidelines with insight of [Deon's Ethics Checklist](https://deon.drivendata.org/#data-science-ethics-checklist) and as specified within the Project Proposal outline. \n",
    "\n",
    "A. Privacy/Terms of Use\n",
    "\n",
    "The source of our data will consist solely on movie meta-data which stores information on genre, cast, production, ratings, and other technical-related aspects of movies which is publically available. As our analysis is not dependent on the identity of the production staff or cast, we will be decoupling such information from our analysis during data wrangling. However, such information is still publically available regardless as is the nature of publicized movies. Scripts of movies are made available for purposes of closed captioning and are subject to fair use for research. There is also an inherent bias towards profanity in regards to the age ratings of movies, purely on the social perception of profanity, and in relation to movies which may depict harmful perceptions of certain groups. As such, we need to be aware of the movies we include within our analysis, and may need to exclude movies which have been known to cause harm to certain communities. \n",
    "\n",
    "B. Data Privacy/Equitable Impact\n",
    "\n",
    "As our data should not be containing personally identifiable information relevant to the identities of the production staff or cast and the source of our data being publically available, the concerns of encryption and access limitations are not crticial. We must be concerned, however, of the manipulation of the data itself and strive to preserve its integrity as analysis provides insight on the perception of profanity -- a highly contentious topic. As such, proper documentation of the manipulations and wrangling we perform on the data should be kept to keep track of the changes made to the dataset. \n",
    "\n",
    "C. Analysis/Specific Biases\n",
    "\n",
    "As mentioned previously within section (A) Privacy/Terms of Use, the nature of profanity lends its way to being utilized to harm certain communities, while the words themselves may still be offensive. As such, we need to be aware of the themes of the movies we include and possibly exclude movies which have been known to incite harm. We can also avoid actively offending readers of our analysis with the words we choose to include within the analysis. One method of doing such is by coding each word such that a reader will see codes which represent profane words without having to be subjective to seeing such words directly. A separate file or key may be included for curious readers who would like to know the specific words utilized. Furthermore to ensure we do not include movies which are known to cause harm, we can perform an investigation to search for movies known to cause harm and place them within an exclude list as we do our analysis."
   ]
  },
  {
   "cell_type": "markdown",
   "metadata": {},
   "source": [
    "# Team Expectations "
   ]
  },
  {
   "cell_type": "markdown",
   "metadata": {},
   "source": [
    "\n",
    "* Support one another with the programmic aspect of data science such that each of us will have a working familiarity behind data science coding\n",
    "* Communicate concerns of deadlines and establish a support requests when a task may become too difficult \n",
    "* Routinely check in with each other on progress of tasks in a public group manner such that each of the team members are aware of the progress of task\n",
    "* Share findings each of us may make while conducting our tasks as we discover them, such that each team member may have the opportunity to explore and discuss such findings to improve our conclusions"
   ]
  },
  {
   "cell_type": "markdown",
   "metadata": {},
   "source": [
    "# Project Timeline Proposal"
   ]
  },
  {
   "cell_type": "markdown",
   "metadata": {},
   "source": [
    "| Meeting Date  | Meeting Time| Completed Before Meeting  | Discuss at Meeting |\n",
    "|---|---|---|---|\n",
    "| 02/03  |  3 PM | Review expectations of final project; Discuss mutual reserach interests; Research possible topics to scplore  | Determine best form of communication and vote on days which most of us are free to meet; Share research we have currently | \n",
    "| 02/14  |  8 PM |  Do background research on topic each of us want to do | Present arguments for why we should choose a specific topic; Discuss ideal datasets for the topic, predictions, background and significance, and possible ethical concerns; Assign group members to lead specific parts; Vote on topic to commit to | \n",
    "| 03/05  | 8 PM  | Edit, finalize, and submit proposal; Search for datasets  | Discuss Wrangling and possible analytical approaches; Do basic wrangling and exploration of datasets; Complete checkpoint  |\n",
    "| 03/10  | 6 PM  | Import & Wrangle Data (Nhan); EDA (Areen) | Review/Edit wrangling/EDA; Discuss Analysis Plan; Search for additional datasets if needed  |\n",
    "| 03/17  | 8 PM  | Finalize wrangling/EDA; Begin Analysis (Victor; Kevin) | Discuss/edit Analysis; Complete project check-in |\n",
    "| 03/20  | 8 PM  | Complete analysis; Draft results/conclusion/discussion (Joseph)| Discuss/edit full project |\n",
    "| 03/24  | Before 11:59 PM  | NA | Turn in Final Project & Group Project Surveys |"
   ]
  },
  {
   "cell_type": "code",
   "execution_count": null,
   "metadata": {},
   "outputs": [],
   "source": []
  }
 ],
 "metadata": {
  "kernelspec": {
   "display_name": "Python 3 (ipykernel)",
   "language": "python",
   "name": "python3"
  },
  "language_info": {
   "codemirror_mode": {
    "name": "ipython",
    "version": 3
   },
   "file_extension": ".py",
   "mimetype": "text/x-python",
   "name": "python",
   "nbconvert_exporter": "python",
   "pygments_lexer": "ipython3",
   "version": "3.9.13"
  }
 },
 "nbformat": 4,
 "nbformat_minor": 2
}
