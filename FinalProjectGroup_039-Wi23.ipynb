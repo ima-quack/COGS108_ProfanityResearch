{
 "cells": [
  {
   "cell_type": "markdown",
   "metadata": {},
   "source": [
    "# COGS 108 - Final Project (change this to your project's title)"
   ]
  },
  {
   "cell_type": "markdown",
   "metadata": {},
   "source": [
    "## Permissions\n",
    "\n",
    "Place an `X` in the appropriate bracket below to specify if you would like your group's project to be made available to the public. (Note that student names will be included (but PIDs will be scraped from any groups who include their PIDs).\n",
    "\n",
    "* [  ] YES - make available\n",
    "* [  ] NO - keep private"
   ]
  },
  {
   "cell_type": "markdown",
   "metadata": {},
   "source": [
    "# Overview"
   ]
  },
  {
   "cell_type": "markdown",
   "metadata": {},
   "source": [
    "*Fill in your overview here*"
   ]
  },
  {
   "cell_type": "markdown",
   "metadata": {},
   "source": [
    "# Names\n",
    "\n",
    "- Ant Man\n",
    "- Hulk\n",
    "- Iron Man\n",
    "- Thor\n",
    "- Wasp"
   ]
  },
  {
   "cell_type": "markdown",
   "metadata": {},
   "source": [
    "<a id='research_question'></a>\n",
    "# Research Question"
   ]
  },
  {
   "cell_type": "markdown",
   "metadata": {},
   "source": [
    "*Fill in your research question here*"
   ]
  },
  {
   "cell_type": "markdown",
   "metadata": {},
   "source": [
    "<a id='background'></a>\n",
    "\n",
    "## Background & Prior Work"
   ]
  },
  {
   "cell_type": "markdown",
   "metadata": {},
   "source": [
    "*Fill in your background and prior work here* \n",
    "\n",
    "References (include links):\n",
    "- 1)\n",
    "- 2)"
   ]
  },
  {
   "cell_type": "markdown",
   "metadata": {},
   "source": [
    "# Hypothesis\n"
   ]
  },
  {
   "cell_type": "markdown",
   "metadata": {},
   "source": [
    "*Fill in your hypotheses here*"
   ]
  },
  {
   "cell_type": "markdown",
   "metadata": {},
   "source": [
    "# Dataset(s)"
   ]
  },
  {
   "cell_type": "markdown",
   "metadata": {},
   "source": [
    "*Fill in your dataset information here*\n",
    "\n",
    "(Copy this information for each dataset)\n",
    "- Dataset Name:\n",
    "- Link to the dataset:\n",
    "- Number of observations:\n",
    "\n",
    "1-2 sentences describing each dataset. \n",
    "\n",
    "If you plan to use multiple datasets, add 1-2 sentences about how you plan to combine these datasets."
   ]
  },
  {
   "cell_type": "markdown",
   "metadata": {},
   "source": [
    "# Setup"
   ]
  },
  {
   "cell_type": "code",
   "execution_count": 1,
   "metadata": {},
   "outputs": [],
   "source": [
    "## YOUR CODE HERE"
   ]
  },
  {
   "cell_type": "markdown",
   "metadata": {},
   "source": [
    "# Data Cleaning"
   ]
  },
  {
   "cell_type": "markdown",
   "metadata": {},
   "source": [
    "Describe your data cleaning steps here."
   ]
  },
  {
   "cell_type": "code",
   "execution_count": 2,
   "metadata": {},
   "outputs": [],
   "source": [
    "## YOUR CODE HERE\n",
    "## FEEL FREE TO ADD MULTIPLE CELLS PER SECTION"
   ]
  },
  {
   "cell_type": "markdown",
   "metadata": {},
   "source": [
    "# Data Analysis & Results"
   ]
  },
  {
   "cell_type": "markdown",
   "metadata": {},
   "source": [
    "Include cells that describe the steps in your data analysis."
   ]
  },
  {
   "cell_type": "code",
   "execution_count": 3,
   "metadata": {},
   "outputs": [],
   "source": [
    "## YOUR CODE HERE\n",
    "## FEEL FREE TO ADD MULTIPLE CELLS PER SECTION"
   ]
  },
  {
   "cell_type": "markdown",
   "metadata": {},
   "source": [
    "# Ethics & Privacy"
   ]
  },
  {
   "cell_type": "markdown",
   "metadata": {},
   "source": [
    "*Fill in your ethics & privacy discussion here*"
   ]
  },
  {
   "cell_type": "markdown",
   "metadata": {},
   "source": [
    "# Conclusion & Discussion"
   ]
  },
  {
   "cell_type": "markdown",
   "metadata": {},
   "source": [
    "This project examined the use of profanity and its potential impact on a movie's box office, review scores, and revenue. One of the selection criteria was that the film had to have been released within the past twenty years and be within the top ten variables. The independent variable was the amount of profanity used in the film, while the dependent variables were the movie ratings, review scores, and box office performance.\n",
    "\n",
    "\n",
    "We used The Movie Dataset, a database created in 20017 that is updated regularly but has complex and timely application programming interference calls. We also utilized MovieLens, a research subsidiary of Grouplens Research that contains movie review data based at the University of Minnesota. We gathered scripts from Springfield! Springfield! The Motion Picture Association of America (MPAA) ratings of the films were gathered from the Internet Movie Database (IMDb).\n",
    "\n",
    "\n",
    "Our inclusion criteria was:\n",
    "* Movies have made $1 in profit\n",
    "* Movies were released to the public\n",
    "* Movies were in english\n",
    "\n",
    "\n",
    "We removed the following as part of our exlusion criteria:\n",
    "* Movies that have never been released to the public\n",
    "* Movies that were not released in English\n",
    "* Movies that made $0\n",
    "* Movies which were not released in the movie theaters\n",
    "* Movies with less than 100 reviews\n",
    "\n",
    "\n",
    "We found that the most common profane words used in movies were 'damn,' 'shit,' and 'fuck,' with 'fuck' being the most frequently used, accounting for over 60% of all profanity in movies. The average percentage of profanity decreased between 1997-2002, plateaued until 2007, and started rising again until 2012, where it plateaued once more. Most movie scripts contained a total of 50 profane words.\n",
    "\n",
    "\n",
    "When conducting Spearman and Pearson correlations, there was never a high correlation between the relationship between profanity percentage and the movie's rating. However, when looking at yearly data, the Pearson correlation within movie ratings had a potential relationship, but it had a p-value of 0.112, indicating that profanity had no relationship with how well the movie performed in terms of revenue and rating. We looked at machine learning algorithms to predict MPAA ratings exclusively using profanity and found that the K-Nearest Neighbor (KNN) model was better at predicting the MPAA rating. We utilized the Autoregressive integrated moving average (ARIMA) model to extrapolate predictions and found no significance within the years.\n",
    "\n",
    "\n",
    "One of the limitations of the study was that we were only able to look at films between 1997 and 2017 due to the database only having films up until 2017. Another limitation was the limited research on our topic. A further limitation was having to use multiple databases to gather the required information for the project.\n",
    "\n",
    "\n",
    "Future researchers should examine the effects these films have on the usage of profanity in everyday life, expand on this research to see if the results remain the same if extended to the present day, explore whether the usage of certain profane words affects whether an individual will watch the full duration of the film, and investigate whether certain profane words are more necessary than others.\n"
   ]
  },
  {
   "cell_type": "markdown",
   "metadata": {},
   "source": [
    "# Final Project Video"
   ]
  },
  {
   "cell_type": "markdown",
   "metadata": {},
   "source": [
    "[Link to video](https://drive.google.com/file/d/1bJ0s95TPZU-5PcQbhOdyQ-u9QZdjl3Yv/view?usp=sharing) "
   ]
  },
  {
   "cell_type": "markdown",
   "metadata": {},
   "source": [
    "# Team Contributions"
   ]
  },
  {
   "cell_type": "markdown",
   "metadata": {},
   "source": [
    "*Specify who in your group worked on which parts of the project.*"
   ]
  }
 ],
 "metadata": {
  "kernelspec": {
   "display_name": "Python 3 (ipykernel)",
   "language": "python",
   "name": "python3"
  },
  "language_info": {
   "codemirror_mode": {
    "name": "ipython",
    "version": 3
   },
   "file_extension": ".py",
   "mimetype": "text/x-python",
   "name": "python",
   "nbconvert_exporter": "python",
   "pygments_lexer": "ipython3",
   "version": "3.9.13"
  }
 },
 "nbformat": 4,
 "nbformat_minor": 2
}
