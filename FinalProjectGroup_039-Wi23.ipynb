{
 "cells": [
  {
   "cell_type": "markdown",
   "metadata": {},
   "source": [
    "# COGS 108 - Final Project (change this to your project's title)"
   ]
  },
  {
   "cell_type": "markdown",
   "metadata": {},
   "source": [
    "## Permissions\n",
    "\n",
    "Place an `X` in the appropriate bracket below to specify if you would like your group's project to be made available to the public. (Note that student names will be included (but PIDs will be scraped from any groups who include their PIDs).\n",
    "\n",
    "* [  ] YES - make available\n",
    "* [  ] NO - keep private"
   ]
  },
  {
   "cell_type": "markdown",
   "metadata": {},
   "source": [
    "# Overview"
   ]
  },
  {
   "attachments": {},
   "cell_type": "markdown",
   "metadata": {},
   "source": [
    "Profanity has been a topic of taboo and interest throughout the years due to its inherent strength and meaning behind words. To answer the question as to whether social perception has changed over time in regards to profanity, we conducted research on the trends of profanity usage within movies over the past 20 years in relation to the performance of movies from their box office revenue, MPAA age ratings, and aggregated reviews from the public. In short, our results found that there are three specific profane words which are the most commonly used across all movies and distributing the rate of profane words across all movies, which often average 50 profane words. Statistical testing of our factors revealed that despite the high correlation between ratings and profanity, it still wasn’t statistically relevant. However, classification models trained on pure profanity, such as the KNN,  were capable of predicting MPAA ratings of movies per year at a decently high rate given that there were enough samples of movies utilizing profane words by the year."
   ]
  },
  {
   "attachments": {},
   "cell_type": "markdown",
   "metadata": {},
   "source": [
    "# Names\n",
    "\n",
    "- Nhan Quach\n",
    "- Joseph Morales\n",
    "- Victor Wang\n",
    "- Kevin Hu\n",
    "- Areen Lu"
   ]
  },
  {
   "cell_type": "markdown",
   "metadata": {},
   "source": [
    "<a id='research_question'></a>\n",
    "# Research Question"
   ]
  },
  {
   "attachments": {},
   "cell_type": "markdown",
   "metadata": {},
   "source": [
    "\n",
    "How has social perception of profanity shifted across the past 20 years as indicated by the proportion of profane words utilized within the top 10 movies over the past 20 years and their respective age ratings, box office performance, and review scores?"
   ]
  },
  {
   "cell_type": "markdown",
   "metadata": {},
   "source": [
    "<a id='background'></a>\n",
    "\n",
    "## Background & Prior Work"
   ]
  },
  {
   "attachments": {},
   "cell_type": "markdown",
   "metadata": {},
   "source": [
    "Profanity is a term used to describe lewd language that encompasses both taboo and swear words that occurs in social settings where it is considered both inappropriate and unacceptable <sup>[[Feldman]](#1)</sup>. It is quite prevalent, extending past the private usage to the degree that even working professionals of all ages admit to swearing <sup>[[Baruch]](#2)</sup>. While described as taboo, swearing leads to positive outcomes across various factors at the individual, interpersonal, and group levels that include stress relief, communication enrichment, and socialization enhancement <sup>[[Baruch]](#2)</sup>. Furthermore, profanity can also be perceived as being more honest as well as holding higher integrity in society <sup>[[Feldman]](#1)</sup>.\n",
    "\n",
    "Nevertheless, perception is everything in the role of human interaction and is affected largedly by the way someone speaks. In terms of profanity, it has been found that those who used profanity appeared to make poor impression ratings across several factors such as intelligence, level of trust, and even overall impression <sup>[[DeFrank]](#3)</sup>. As such, perception is significant in terms of professional settings. For instance, a study found that when its’ participants viewed police dashcams the videos with profanity were viewed to be less reasonable compared to a video with clean language <sup>[[Martaindale]](#4)</sup>.\n",
    "\n",
    "However, the opposite appears to occur when it comes to reviews. In a study that looked at the profanity used in Yelp reviews, it was found that the credibility of the reviewer mediates the profanities' effectiveness on usefulness in positive reviews; whereas in negative reviews, it was the reviewer's objectivity which mediates the effectiveness of profanity <sup>[[Hair]](#5)</sup>. Another study looked at product reviews which found that; when the reviews had swear words, it made the product more desirable leading to the reader's attitude toward the product increase <sup>[[Lafreniere]](#6)</sup>. Both these studies illustrate the impact that profanity can have on businesses in terms of their projections, and suggest notions of honesty and reliability behind profanity. \n",
    "\n",
    "In terms of popular media, films are both indicative of the perceptions of the public at the time, as well as mediums for hidden agendas. Profanity within video mediums including television and film were seen with animosity for the potential of negatively influencing the public, and especially youths <sup>[[Brown]](#7)</sup>. More nefariously, films started to introduce profanity as black dialect during the “Blaxploitation films” era that took place from 1969 to 1974 <sup>[[Brown]](#7)</sup>. Yet, profanity still maintains an effect on the public, with its usage in areas such as marketing being capable of stimulating awareness while also perpetuating stereotypical imaging <sup>[[Fjelldal]](#8)</sup>. Furthermore, profanity is becoming more popular within films as argued by opinion pieces <sup>[[Tuttle]](#9)</sup>, and pop culture shapes the public both through adults <sup>[[Ratha]](#10)</sup> and youths <sup>[[Central Community College]](#11)</sup>. \n",
    "\n",
    "As evidently clear, the nature of profanity is highly contentious. It can be malicious and conjure degrading images, but it can be empowering and useful. As such, this study attempts to look at the usage of profanity within films and see whether a trend exists; specifically, in terms of whether or not the utilization of profanity has improved and degraded public perception on films as evident by revenue, age ratings, and review scores.\n",
    "\n",
    "References:\n",
    "\n",
    "<a name=\"1\">[Feldman]</a>: Feldman, G., Lian, H., Kosinski, M., & Stillwell, D. (2017). Frankly, We Do Give a Damn: The Relationship Between Profanity and Honesty. Social Psychological and Personality Science, 8(7), 816–826. https://doi.org/10.1177/1948550616681055\n",
    "\n",
    "<a name=\"2\">[Baruch]</a>: Baruch, Y., Prouska, R., Ollier-Malaterre, A., & Bunk, J. (2017). Swearing at work: The mixed outcomes of profanity. Journal of Managerial Psychology, 32(2), 149–162. https://psycnet.apa.org/record/2017-09123-002\n",
    "\n",
    "<a name=\"3\">[DeFrank]</a>: DeFrank, M., & Kahlbaugh, P. (2019). Language Choice Matters: When Profanity Affects How People Are Judged. Journal of Language and Social Psychology, 38(1), 126–141. https://doi.org/10.1177/0261927X18758143\n",
    "\n",
    "<a name=\"4\">[Martaindale]</a>: Martaindale, M. H., Sandel, W. L., Duron, A., & Blair, J. P. (2022). @#%$!: The Impact of Officer Profanity on Civilians’ Perception of What Constitutes Reasonable Use of Force. Police Quarterly, 0(0). https://doi.org/10.1177/10986111221111332\n",
    "\n",
    "<a name=\"5\">[Hair]</a>: Hair, M., & Ozcan, T. (2018). How reviewers’ use of profanity affects perceived usefulness of online reviews. Marketing Letters, 29(2), 151–163. https://www.jstor.org/stable/48701054\n",
    "\n",
    "<a name=\"6\">[Lafreniere]</a>: Lafreniere, K. C., Moore, S. G., & Fisher, R. J. (2022). The Power of Profanity: The Meaning and Impact of Swear Words in Word of Mouth. Journal of Marketing Research, 59(5), 908–925. https://doi.org/10.1177/00222437221078606 \n",
    "\n",
    "<a name=\"7\">[Brown]</a>: Brown, C. (1994, Mar 24). PERSPECTIVE ON PROFANITY the language of violence the vocabulary once heard only in rage is replacing conversational english; why don't the `hip' media see the link?: [home edition]. Los Angeles Times (Pre-1997 Fulltext) Retrieved from https://www.proquest.com/docview/282279288?parentSessionId=jYnKSeSoDkE%2FMCRmkj2GD4w7eTPsHbmbfXRwIau9K0E%3D\n",
    "\n",
    "<a name=\"8\">[Fjelldal]</a>: Fjelldal, I. K., Kralj, A., & Moyle, B. (2022). Profanity in viral tourism marketing: A conceptual model of destination image reinforcement. Journal of Vacation Marketing, 28(1), 52–63. https://doi.org/10.1177/13567667211020497\n",
    "\n",
    "<a name=\"9\">[Tuttle]</a>: Tuttle, K. (2018). The Profanity Problem: Swearing in Movies [MovieBabble]. Movie Babble. https://moviebabble.com/2018/02/20/the-profanity-problem-swearing-in-movies/\n",
    "\n",
    "<a name=\"10\">[Ratha]</a>: Ratha, S. (2017). Impact of Pop Culture on Society [Medium]. Medium. https://medium.com/@thenewswell/impact-of-pop-culture-on-society-fde92ae986f0\n",
    "\n",
    "\n",
    "<a name=\"11\">[Central Community College]</a>: Popular Culture. (2022). [Central Community College]. Library Guide. https://libguides.cccneb.edu/popculture"
   ]
  },
  {
   "cell_type": "markdown",
   "metadata": {},
   "source": [
    "# Hypothesis\n"
   ]
  },
  {
   "attachments": {},
   "cell_type": "markdown",
   "metadata": {},
   "source": [
    "We hypothesize that profanity has grown to be more tolerated within popular American opinion. Specifically, we predict that usage of profanity in films has increased over the years with age ratings relative to profanity being less correlated as time goes on, while revenue and review scores of the movies increase. The reason behind such a trend could stem with both the increase in research and understanding behind the complexity of profanity beyond that of a malicious and taboo topic, and that profanity has become a medium to capture strong emotions in as few words as possible."
   ]
  },
  {
   "cell_type": "markdown",
   "metadata": {},
   "source": [
    "# Dataset(s)"
   ]
  },
  {
   "cell_type": "markdown",
   "metadata": {},
   "source": [
    "*Fill in your dataset information here*\n",
    "\n",
    "(Copy this information for each dataset)\n",
    "- Dataset Name:\n",
    "- Link to the dataset:\n",
    "- Number of observations:\n",
    "\n",
    "1-2 sentences describing each dataset. \n",
    "\n",
    "If you plan to use multiple datasets, add 1-2 sentences about how you plan to combine these datasets."
   ]
  },
  {
   "cell_type": "markdown",
   "metadata": {},
   "source": [
    "# Setup"
   ]
  },
  {
   "cell_type": "code",
   "execution_count": 1,
   "metadata": {},
   "outputs": [],
   "source": [
    "## YOUR CODE HERE"
   ]
  },
  {
   "cell_type": "markdown",
   "metadata": {},
   "source": [
    "# Data Cleaning"
   ]
  },
  {
   "cell_type": "markdown",
   "metadata": {},
   "source": [
    "Describe your data cleaning steps here."
   ]
  },
  {
   "cell_type": "code",
   "execution_count": 2,
   "metadata": {},
   "outputs": [],
   "source": [
    "## YOUR CODE HERE\n",
    "## FEEL FREE TO ADD MULTIPLE CELLS PER SECTION"
   ]
  },
  {
   "cell_type": "markdown",
   "metadata": {},
   "source": [
    "# Data Analysis & Results"
   ]
  },
  {
   "cell_type": "markdown",
   "metadata": {},
   "source": [
    "Include cells that describe the steps in your data analysis."
   ]
  },
  {
   "cell_type": "code",
   "execution_count": 3,
   "metadata": {},
   "outputs": [],
   "source": [
    "## YOUR CODE HERE\n",
    "## FEEL FREE TO ADD MULTIPLE CELLS PER SECTION"
   ]
  },
  {
   "cell_type": "markdown",
   "metadata": {},
   "source": [
    "# Ethics & Privacy"
   ]
  },
  {
   "cell_type": "markdown",
   "metadata": {},
   "source": [
    "*Fill in your ethics & privacy discussion here*"
   ]
  },
  {
   "cell_type": "markdown",
   "metadata": {},
   "source": [
    "# Conclusion & Discussion"
   ]
  },
  {
   "cell_type": "markdown",
   "metadata": {},
   "source": [
    "This project examined the use of profanity and its potential impact on a movie's box office, review scores, and revenue. One of the selection criteria was that the film had to have been released within the past twenty years and be within the top ten variables. The independent variable was the amount of profanity used in the film, while the dependent variables were the movie ratings, review scores, and box office performance.\n",
    "\n",
    "\n",
    "We used The Movie Dataset, a database created in 20017 that is updated regularly but has complex and timely application programming interference calls. We also utilized MovieLens, a research subsidiary of Grouplens Research that contains movie review data based at the University of Minnesota. We gathered scripts from Springfield! Springfield! The Motion Picture Association of America (MPAA) ratings of the films were gathered from the Internet Movie Database (IMDb).\n",
    "\n",
    "\n",
    "Our inclusion criteria was:\n",
    "* Movies have made $1 in profit\n",
    "* Movies were released to the public\n",
    "* Movies were in english\n",
    "\n",
    "\n",
    "We removed the following as part of our exlusion criteria:\n",
    "* Movies that have never been released to the public\n",
    "* Movies that were not released in English\n",
    "* Movies that made $0\n",
    "* Movies which were not released in the movie theaters\n",
    "* Movies with less than 100 reviews\n",
    "\n",
    "\n",
    "We found that the most common profane words used in movies were 'damn,' 'shit,' and 'fuck,' with 'fuck' being the most frequently used, accounting for over 60% of all profanity in movies. The average percentage of profanity decreased between 1997-2002, plateaued until 2007, and started rising again until 2012, where it plateaued once more. Most movie scripts contained a total of 50 profane words.\n",
    "\n",
    "\n",
    "When conducting Spearman and Pearson correlations, there was never a high correlation between the relationship between profanity percentage and the movie's rating. However, when looking at yearly data, the Pearson correlation within movie ratings had a potential relationship, but it had a p-value of 0.112, indicating that profanity had no relationship with how well the movie performed in terms of revenue and rating. We looked at machine learning algorithms to predict MPAA ratings exclusively using profanity and found that the K-Nearest Neighbor (KNN) model was better at predicting the MPAA rating. We utilized the Autoregressive integrated moving average (ARIMA) model to extrapolate predictions and found no significance within the years.\n",
    "\n",
    "\n",
    "One of the limitations of the study was that we were only able to look at films between 1997 and 2017 due to the database only having films up until 2017. Another limitation was the limited research on our topic. A further limitation was having to use multiple databases to gather the required information for the project.\n",
    "\n",
    "\n",
    "Future researchers should examine the effects these films have on the usage of profanity in everyday life, expand on this research to see if the results remain the same if extended to the present day, explore whether the usage of certain profane words affects whether an individual will watch the full duration of the film, and investigate whether certain profane words are more necessary than others.\n"
   ]
  },
  {
   "cell_type": "markdown",
   "metadata": {},
   "source": [
    "# Final Project Video"
   ]
  },
  {
   "cell_type": "markdown",
   "metadata": {},
   "source": [
    "[Link to video](https://drive.google.com/file/d/1bJ0s95TPZU-5PcQbhOdyQ-u9QZdjl3Yv/view?usp=sharing) "
   ]
  },
  {
   "cell_type": "markdown",
   "metadata": {},
   "source": [
    "# Team Contributions"
   ]
  },
  {
   "cell_type": "markdown",
   "metadata": {},
   "source": [
    "*Specify who in your group worked on which parts of the project.*"
   ]
  }
 ],
 "metadata": {
  "kernelspec": {
   "display_name": "Python 3 (ipykernel)",
   "language": "python",
   "name": "python3"
  },
  "language_info": {
   "codemirror_mode": {
    "name": "ipython",
    "version": 3
   },
   "file_extension": ".py",
   "mimetype": "text/x-python",
   "name": "python",
   "nbconvert_exporter": "python",
   "pygments_lexer": "ipython3",
   "version": "3.10.9"
  }
 },
 "nbformat": 4,
 "nbformat_minor": 2
}
